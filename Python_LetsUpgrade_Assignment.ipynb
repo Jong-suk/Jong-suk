{
  "nbformat": 4,
  "nbformat_minor": 0,
  "metadata": {
    "colab": {
      "name": "Python LetsUpgrade Assignment.ipynb",
      "provenance": [],
      "collapsed_sections": [],
      "authorship_tag": "ABX9TyOTRYYdJX28qRLosrg+7dVw",
      "include_colab_link": true
    },
    "kernelspec": {
      "name": "python3",
      "display_name": "Python 3"
    },
    "language_info": {
      "name": "python"
    }
  },
  "cells": [
    {
      "cell_type": "markdown",
      "metadata": {
        "id": "view-in-github",
        "colab_type": "text"
      },
      "source": [
        "<a href=\"https://colab.research.google.com/github/Jong-suk/Jong-suk/blob/main/Python_LetsUpgrade_Assignment.ipynb\" target=\"_parent\"><img src=\"https://colab.research.google.com/assets/colab-badge.svg\" alt=\"Open In Colab\"/></a>"
      ]
    },
    {
      "cell_type": "markdown",
      "metadata": {
        "id": "qzP-_tYKnSqs"
      },
      "source": [
        "# **Python Day-1**\n",
        "# **Assignment-1:** Take input for a list and sort it in descending order."
      ]
    },
    {
      "cell_type": "code",
      "metadata": {
        "id": "EgCexj6rnwjx"
      },
      "source": [
        "list = []"
      ],
      "execution_count": null,
      "outputs": []
    },
    {
      "cell_type": "code",
      "metadata": {
        "colab": {
          "base_uri": "https://localhost:8080/"
        },
        "id": "vYYRJ3w7n5GO",
        "outputId": "817aacd5-ea02-464f-f31d-0039b2b66174"
      },
      "source": [
        "n = int(input(\"Enter number of elements:\"))"
      ],
      "execution_count": null,
      "outputs": [
        {
          "output_type": "stream",
          "text": [
            "Enter number of elements:5\n"
          ],
          "name": "stdout"
        }
      ]
    },
    {
      "cell_type": "code",
      "metadata": {
        "colab": {
          "base_uri": "https://localhost:8080/"
        },
        "id": "m_Uw0YfPoI0m",
        "outputId": "063ece4a-6252-4152-e1fe-f2054fd3e10e"
      },
      "source": [
        "for i in range (n):\n",
        "  list.append(int(input(\"Enter a element:\")))"
      ],
      "execution_count": null,
      "outputs": [
        {
          "output_type": "stream",
          "text": [
            "Enter a element:6\n",
            "Enter a element:3\n",
            "Enter a element:8\n",
            "Enter a element:2\n",
            "Enter a element:0\n"
          ],
          "name": "stdout"
        }
      ]
    },
    {
      "cell_type": "code",
      "metadata": {
        "id": "HtA4ydgDOZSQ"
      },
      "source": [
        "list.sort()"
      ],
      "execution_count": null,
      "outputs": []
    },
    {
      "cell_type": "code",
      "metadata": {
        "colab": {
          "base_uri": "https://localhost:8080/"
        },
        "id": "YBqx21G6py-b",
        "outputId": "9f025a92-56f8-4a16-c855-62c8881ead5e"
      },
      "source": [
        "print(list)"
      ],
      "execution_count": null,
      "outputs": [
        {
          "output_type": "stream",
          "text": [
            "[0, 2, 3, 6, 8]\n"
          ],
          "name": "stdout"
        }
      ]
    },
    {
      "cell_type": "markdown",
      "metadata": {
        "id": "EUDHXyrkOf2n"
      },
      "source": [
        "# **Python Day-2**\n",
        "## **Assignment-2:** \n",
        "# Question 1\n",
        "\n",
        "Delete all occurrences of an element in a list"
      ]
    },
    {
      "cell_type": "code",
      "metadata": {
        "id": "nvYkQ7DGp9vz"
      },
      "source": [
        "list = [1,0,0,1,1,0,1,5,2]\n"
      ],
      "execution_count": null,
      "outputs": []
    },
    {
      "cell_type": "code",
      "metadata": {
        "colab": {
          "base_uri": "https://localhost:8080/"
        },
        "id": "DIj5L3JHQ2xn",
        "outputId": "a64823f5-d839-40e5-eb87-a0c76b712669"
      },
      "source": [
        "val = 0\n",
        "l = [i for i in list if i != val]\n",
        "print(l)"
      ],
      "execution_count": null,
      "outputs": [
        {
          "output_type": "stream",
          "text": [
            "[1, 1, 1, 1, 5, 2]\n"
          ],
          "name": "stdout"
        }
      ]
    },
    {
      "cell_type": "markdown",
      "metadata": {
        "id": "vTqF9_KSRSV2"
      },
      "source": [
        "# Question 2\n",
        "Check whether a string is a pangram.\n"
      ]
    },
    {
      "cell_type": "code",
      "metadata": {
        "id": "4m7lt6ecSU1N"
      },
      "source": [
        "import string"
      ],
      "execution_count": null,
      "outputs": []
    },
    {
      "cell_type": "code",
      "metadata": {
        "id": "LKV0zcMSRI_1"
      },
      "source": [
        "alphabet = set(string.ascii_lowercase)\n",
        "  \n",
        "def ispangram(string):\n",
        "    return set(string.lower()) >= alphabet"
      ],
      "execution_count": null,
      "outputs": []
    },
    {
      "cell_type": "code",
      "metadata": {
        "colab": {
          "base_uri": "https://localhost:8080/"
        },
        "id": "Q6AK6092SPD4",
        "outputId": "58cdc548-cf89-49c9-fbe9-dd9ad5f7183c"
      },
      "source": [
        "string = input(\"Enter a string:\")\n",
        "if(ispangram(string) == True):\n",
        "    print(\"Yes\")\n",
        "else:\n",
        "    print(\"No\")"
      ],
      "execution_count": null,
      "outputs": [
        {
          "output_type": "stream",
          "text": [
            "Enter a string:abcdefghijklmnopqrstuvwxyz\n",
            "Yes\n"
          ],
          "name": "stdout"
        }
      ]
    },
    {
      "cell_type": "markdown",
      "metadata": {
        "id": "pApx3SHBESoC"
      },
      "source": [
        "# **Python Day-3**\n",
        "## Assignment-3:\n",
        "### Question 1:\n",
        "\n",
        "Consider a person is represented by Pi, where i is the index of the following list.\n",
        "\n",
        "A list shows the person to whom person Pi has given the gift.\n",
        " \n",
        "Consider the below example: gift_presented_to = [2, 1, 5, 3, 4]\n",
        " \n",
        "This list is giving us the following details:\n",
        "\n",
        "Person P1 has given gift to person P2\n",
        "\n",
        "Person P2 has given gift to person P1\n",
        "\n",
        "Person P3 has given gift to person P5\n",
        "\n",
        "Person P4 has given gift to person P3\n",
        "\n",
        "Person P5 has given gift to person P4\n",
        " \n",
        "So for the given list, the list of persons from whom they have received the gift would be: gift_received_from = [2, 1, 4, 5, 3]\n",
        " \n",
        "i.e.\n",
        "\n",
        "Person P1 has received gift from person P2\n",
        "\n",
        "Person P2 has received gift from person P1\n",
        "\n",
        "Person P3 has received gift from person P4\n",
        "\n",
        "Person P4 has received gift from person P5\n",
        "\n",
        "Person P5 has received gift from person P3\n",
        " \n",
        "Your task:\n",
        " \n",
        "Take input for the gift_presented_to[] list and print its respective gift_received_from[] list.\n"
      ]
    },
    {
      "cell_type": "code",
      "metadata": {
        "id": "DSDvI2FtSeUM",
        "colab": {
          "base_uri": "https://localhost:8080/"
        },
        "outputId": "31b1d078-264e-4964-ba8a-c269f617c507"
      },
      "source": [
        "i = int(input(\"Enter number of persons:\"))"
      ],
      "execution_count": null,
      "outputs": [
        {
          "output_type": "stream",
          "text": [
            "Enter number of persons:5\n"
          ],
          "name": "stdout"
        }
      ]
    },
    {
      "cell_type": "code",
      "metadata": {
        "id": "uy3c_TzsHQ5u"
      },
      "source": [
        "gift_presented_to = {}"
      ],
      "execution_count": null,
      "outputs": []
    },
    {
      "cell_type": "code",
      "metadata": {
        "colab": {
          "base_uri": "https://localhost:8080/"
        },
        "id": "gQYnPyECHJwk",
        "outputId": "817a4ee1-5cbe-42bf-a3de-c7724642b526"
      },
      "source": [
        "for pi in range (1, i+1):\n",
        "  print(\"Enter the gift presented to person\", pi , \":\", end=\" \")\n",
        "  value=int(input())\n",
        "  gift_presented_to[pi] = value"
      ],
      "execution_count": null,
      "outputs": [
        {
          "output_type": "stream",
          "text": [
            "Enter the gift presented to person 1 : 2\n",
            "Enter the gift presented to person 2 : 1\n",
            "Enter the gift presented to person 3 : 5\n",
            "Enter the gift presented to person 4 : 3\n",
            "Enter the gift presented to person 5 : 4\n"
          ],
          "name": "stdout"
        }
      ]
    },
    {
      "cell_type": "code",
      "metadata": {
        "colab": {
          "base_uri": "https://localhost:8080/"
        },
        "id": "lG66DMXU0koJ",
        "outputId": "6f517d22-2bd3-4173-e552-5f6cde38ab0e"
      },
      "source": [
        "gift_presented_to"
      ],
      "execution_count": null,
      "outputs": [
        {
          "output_type": "execute_result",
          "data": {
            "text/plain": [
              "{1: 2, 2: 1, 3: 5, 4: 3, 5: 4}"
            ]
          },
          "metadata": {
            "tags": []
          },
          "execution_count": 7
        }
      ]
    },
    {
      "cell_type": "code",
      "metadata": {
        "id": "CXaBmAAS02Tu"
      },
      "source": [
        "keys = list(gift_presented_to.keys())"
      ],
      "execution_count": null,
      "outputs": []
    },
    {
      "cell_type": "code",
      "metadata": {
        "id": "c_w-WTPW1B_g"
      },
      "source": [
        "values = list(gift_presented_to.values())"
      ],
      "execution_count": null,
      "outputs": []
    },
    {
      "cell_type": "code",
      "metadata": {
        "id": "lns0SNQOJPP-"
      },
      "source": [
        "gift_received_from = {}"
      ],
      "execution_count": null,
      "outputs": []
    },
    {
      "cell_type": "code",
      "metadata": {
        "colab": {
          "base_uri": "https://localhost:8080/"
        },
        "id": "2RdtxCYRvlOd",
        "outputId": "f28ee6d5-bedf-4bdb-e4be-d471480cc25b"
      },
      "source": [
        "for k in range (1, i+1):\n",
        "  for j in range (1, i+1):\n",
        "    if keys[k-1] == values[j-1]:\n",
        "      gift_received_from[j] = gift_presented_to[k]\n",
        "  print(\"Person\", k, \"was gifted by Person\",gift_received_from[k])"
      ],
      "execution_count": null,
      "outputs": [
        {
          "output_type": "stream",
          "text": [
            "Person 1 was gifted by Person 1\n",
            "Person 2 was gifted by Person 2\n",
            "Person 3 was gifted by Person 4\n",
            "Person 4 was gifted by Person 5\n",
            "Person 5 was gifted by Person 3\n"
          ],
          "name": "stdout"
        }
      ]
    },
    {
      "cell_type": "code",
      "metadata": {
        "id": "wLjCzBFHIHqL"
      },
      "source": [
        ""
      ],
      "execution_count": null,
      "outputs": []
    },
    {
      "cell_type": "code",
      "metadata": {
        "id": "uiU3zwy6J_ba"
      },
      "source": [
        ""
      ],
      "execution_count": null,
      "outputs": []
    },
    {
      "cell_type": "code",
      "metadata": {
        "id": "2P1rS2vBK1tS"
      },
      "source": [
        "\n"
      ],
      "execution_count": null,
      "outputs": []
    }
  ]
}