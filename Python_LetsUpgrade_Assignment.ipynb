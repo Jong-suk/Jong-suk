{
  "nbformat": 4,
  "nbformat_minor": 0,
  "metadata": {
    "colab": {
      "name": "Python LetsUpgrade Assignment.ipynb",
      "provenance": [],
      "collapsed_sections": [],
      "authorship_tag": "ABX9TyP4+1/ddzo0zsPPMJpXnyKP",
      "include_colab_link": true
    },
    "kernelspec": {
      "name": "python3",
      "display_name": "Python 3"
    },
    "language_info": {
      "name": "python"
    }
  },
  "cells": [
    {
      "cell_type": "markdown",
      "metadata": {
        "id": "view-in-github",
        "colab_type": "text"
      },
      "source": [
        "<a href=\"https://colab.research.google.com/github/Jong-suk/Jong-suk/blob/main/Python_LetsUpgrade_Assignment.ipynb\" target=\"_parent\"><img src=\"https://colab.research.google.com/assets/colab-badge.svg\" alt=\"Open In Colab\"/></a>"
      ]
    },
    {
      "cell_type": "markdown",
      "metadata": {
        "id": "qzP-_tYKnSqs"
      },
      "source": [
        "# **Python Day-1**\n",
        "# **Assignment-1:** Take input for a list and sort it in descending order."
      ]
    },
    {
      "cell_type": "code",
      "metadata": {
        "id": "EgCexj6rnwjx"
      },
      "source": [
        "list = []"
      ],
      "execution_count": 1,
      "outputs": []
    },
    {
      "cell_type": "code",
      "metadata": {
        "colab": {
          "base_uri": "https://localhost:8080/"
        },
        "id": "vYYRJ3w7n5GO",
        "outputId": "551dfe6a-9e17-4201-b29a-998eb784385c"
      },
      "source": [
        "n = int(input(\"Enter number of elements:\"))"
      ],
      "execution_count": 2,
      "outputs": [
        {
          "output_type": "stream",
          "text": [
            "Enter number of elements:5\n"
          ],
          "name": "stdout"
        }
      ]
    },
    {
      "cell_type": "code",
      "metadata": {
        "colab": {
          "base_uri": "https://localhost:8080/"
        },
        "id": "m_Uw0YfPoI0m",
        "outputId": "5147a314-3365-43d7-8373-8733ffa79fe5"
      },
      "source": [
        "for i in range (n):\n",
        "  list.append(int(input(\"Enter a element:\")))"
      ],
      "execution_count": 3,
      "outputs": [
        {
          "output_type": "stream",
          "text": [
            "Enter a element:2\n",
            "Enter a element:7\n",
            "Enter a element:6\n",
            "Enter a element:1\n",
            "Enter a element:5\n"
          ],
          "name": "stdout"
        }
      ]
    },
    {
      "cell_type": "code",
      "metadata": {
        "id": "HtA4ydgDOZSQ"
      },
      "source": [
        "list.sort()"
      ],
      "execution_count": 5,
      "outputs": []
    },
    {
      "cell_type": "code",
      "metadata": {
        "colab": {
          "base_uri": "https://localhost:8080/"
        },
        "id": "YBqx21G6py-b",
        "outputId": "8ae85324-53f8-4d15-9a22-ec9d4a4ca6d0"
      },
      "source": [
        "print(list)"
      ],
      "execution_count": 6,
      "outputs": [
        {
          "output_type": "stream",
          "text": [
            "[1, 2, 5, 6, 7]\n"
          ],
          "name": "stdout"
        }
      ]
    },
    {
      "cell_type": "markdown",
      "metadata": {
        "id": "EUDHXyrkOf2n"
      },
      "source": [
        "# **Python Day-2**\n",
        "## **Assignment-2:** \n",
        "# Question 1\n",
        "\n",
        "Delete all occurrences of an element in a list"
      ]
    },
    {
      "cell_type": "code",
      "metadata": {
        "id": "nvYkQ7DGp9vz"
      },
      "source": [
        "list = [1,0,0,1,1,0,1,5,2]\n"
      ],
      "execution_count": 7,
      "outputs": []
    },
    {
      "cell_type": "code",
      "metadata": {
        "colab": {
          "base_uri": "https://localhost:8080/"
        },
        "id": "DIj5L3JHQ2xn",
        "outputId": "1413efb8-5a9d-453f-ab9f-d66a598de710"
      },
      "source": [
        "val = 0\n",
        "l = [i for i in list if i != val]\n",
        "print(l)"
      ],
      "execution_count": 10,
      "outputs": [
        {
          "output_type": "stream",
          "text": [
            "[1, 1, 1, 1, 5, 2]\n"
          ],
          "name": "stdout"
        }
      ]
    },
    {
      "cell_type": "markdown",
      "metadata": {
        "id": "vTqF9_KSRSV2"
      },
      "source": [
        "# Question 2\n",
        "Check whether a string is a pangram.\n"
      ]
    },
    {
      "cell_type": "code",
      "metadata": {
        "id": "4m7lt6ecSU1N"
      },
      "source": [
        "import string"
      ],
      "execution_count": 12,
      "outputs": []
    },
    {
      "cell_type": "code",
      "metadata": {
        "id": "LKV0zcMSRI_1"
      },
      "source": [
        "alphabet = set(string.ascii_lowercase)\n",
        "  \n",
        "def ispangram(string):\n",
        "    return set(string.lower()) >= alphabet"
      ],
      "execution_count": 13,
      "outputs": []
    },
    {
      "cell_type": "code",
      "metadata": {
        "colab": {
          "base_uri": "https://localhost:8080/"
        },
        "id": "Q6AK6092SPD4",
        "outputId": "17863471-153c-4737-ff1e-b7a6a491734b"
      },
      "source": [
        "string = input(\"Enter a string:\")\n",
        "if(ispangram(string) == True):\n",
        "    print(\"Yes\")\n",
        "else:\n",
        "    print(\"No\")"
      ],
      "execution_count": 14,
      "outputs": [
        {
          "output_type": "stream",
          "text": [
            "Enter a string:The quick brown fox jumps over the lazy dog\n",
            "Yes\n"
          ],
          "name": "stdout"
        }
      ]
    },
    {
      "cell_type": "code",
      "metadata": {
        "id": "DSDvI2FtSeUM"
      },
      "source": [
        ""
      ],
      "execution_count": null,
      "outputs": []
    }
  ]
}